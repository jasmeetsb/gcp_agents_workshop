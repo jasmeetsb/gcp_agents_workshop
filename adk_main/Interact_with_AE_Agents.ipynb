{
 "cells": [
  {
   "cell_type": "markdown",
   "metadata": {
    "id": "JAPoU8Sm5E6e"
   },
   "source": [
    "# Interact with ADK agent deployed on Agent Engine\n"
   ]
  },
  {
   "cell_type": "code",
   "execution_count": null,
   "metadata": {},
   "outputs": [],
   "source": [
    "import uuid\n",
    "import vertexai\n",
    "from vertexai import agent_engines\n",
    "from google import adk\n",
    "from google.adk.memory import VertexAiMemoryBankService\n",
    "from google.adk.sessions import VertexAiSessionService\n",
    "from google.genai import types\n",
    "from vertexai import agent_engines"
   ]
  },
  {
   "cell_type": "code",
   "execution_count": null,
   "metadata": {},
   "outputs": [],
   "source": [
    "import os\n",
    "import vertexai\n",
    "from vertexai import agent_engines\n",
    "\n",
    "from dotenv import load_dotenv\n",
    "load_dotenv()\n",
    "\n",
    "def parse_event_content(event: dict) -> list:\n",
    "    \"\"\"\n",
    "    Parses the 'content' section of an event dictionary to extract text,\n",
    "    function calls, or function responses from the 'parts' list.\n",
    "\n",
    "    Args:\n",
    "        event: The event dictionary to parse.\n",
    "\n",
    "    Returns:\n",
    "        A list of tuples. Each tuple contains (events type, content)\n",
    "        Returns an empty list if the structure is invalid or no \n",
    "        relevant parts are found.\n",
    "    \"\"\"\n",
    "    results = []\n",
    "    \n",
    "    # Use .get() for safer access in case keys are missing\n",
    "    content = event.get('content')\n",
    "    if not isinstance(content, dict):\n",
    "        # print(\"Warning: 'content' key missing or not a dictionary in event.\")\n",
    "        return results # Return empty list if content is missing/wrong type\n",
    "\n",
    "    parts = content.get('parts')\n",
    "    if not isinstance(parts, list):\n",
    "        # print(\"Warning: 'parts' key missing or not a list in event['content'].\")\n",
    "        return results # Return empty list if parts is missing/wrong type\n",
    "\n",
    "    # Iterate through each dictionary in the 'parts' list\n",
    "    for part in parts:\n",
    "        if not isinstance(part, dict):\n",
    "            # print(f\"Warning: Item in 'parts' is not a dictionary: {part}\")\n",
    "            results.append(('unknown', part)) # Handle non-dict items if necessary\n",
    "            continue # Skip to the next item\n",
    "\n",
    "        if 'text' in part:\n",
    "            print(\"-----------------------------\")\n",
    "            print('>>> Inside final response <<<')\n",
    "            print(\"-----------------------------\")\n",
    "            print(part['text'])\n",
    "            results.append(('text', part['text']))\n",
    "        elif 'function_call' in part:\n",
    "            print(\"-----------------------------\")\n",
    "            print('+++ Inside function call +++')\n",
    "            print(\"-----------------------------\")\n",
    "            print(f\"Call Function: {part['function_call']['name']}\")\n",
    "            print(f\"Argument: {part['function_call']['args']}\")\n",
    "            # Found a function call part\n",
    "            results.append(('function_call', part['function_call']))\n",
    "        elif 'function_response' in part:\n",
    "            print(\"------------------------------\")\n",
    "            print('-- Inside function response --')\n",
    "            print(\"------------------------------\")\n",
    "            print(f\"Function Response: {part['function_response']['name']}\")\n",
    "            print(f\"Response: {part['function_response']['response']}\")\n",
    "            results.append(('function_response', part['function_response']))\n",
    "        else:\n",
    "            # The part dictionary doesn't contain any of the expected keys\n",
    "            # print(f\"Warning: Unknown structure in part: {part}\")\n",
    "            print(f'Unknown part: {part}')\n",
    "            results.append(('unknown', part))\n",
    "\n",
    "    return results\n",
    "\n"
   ]
  },
  {
   "cell_type": "markdown",
   "metadata": {},
   "source": [
    "## Specify Agent_Engine instance ypu want to interact with"
   ]
  },
  {
   "cell_type": "code",
   "execution_count": null,
   "metadata": {},
   "outputs": [],
   "source": [
    "\n",
    "GOOGLE_CLOUD_PROJECT = os.getenv(\"GOOGLE_CLOUD_PROJECT\")\n",
    "GOOGLE_CLOUD_LOCATION = os.getenv(\"GOOGLE_CLOUD_LOCATION\")\n",
    "\n",
    "AGENT_ENGINE_ID = '8390513969047011328' # Normally a 18-digit number - it is a number not a string \n",
    "    \n",
    "vertexai.init(\n",
    "        project=GOOGLE_CLOUD_PROJECT,\n",
    "        location=GOOGLE_CLOUD_LOCATION,\n",
    "    )"
   ]
  },
  {
   "cell_type": "code",
   "execution_count": null,
   "metadata": {},
   "outputs": [
    {
     "name": "stdout",
     "output_type": "stream",
     "text": [
      "Agent Retrieved: teaching-assistant-agent2\n"
     ]
    }
   ],
   "source": [
    "\n",
    "    \n",
    "# Get Agent Engine instance\n",
    "agent = agent_engines.get(f\"projects/{GOOGLE_CLOUD_PROJECT}/locations/{GOOGLE_CLOUD_LOCATION}/reasoningEngines/{AGENT_ENGINE_ID}\")\n",
    "print(f\"Agent Retrieved: {agent.display_name}\")"
   ]
  },
  {
   "cell_type": "code",
   "execution_count": 9,
   "metadata": {},
   "outputs": [
    {
     "name": "stdout",
     "output_type": "stream",
     "text": [
      "User query: Hi teacher. Could she help me to multiply all the numbers between 1 and 3 and then add 5?\n",
      "-----------------------------\n",
      "+++ Inside function call +++\n",
      "-----------------------------\n",
      "Call Function: transfer_to_agent\n",
      "Argument: {'agent_name': 'agent_math'}\n",
      "------------------------------\n",
      "-- Inside function response --\n",
      "------------------------------\n",
      "Function Response: transfer_to_agent\n",
      "Response: {'result': None}\n",
      "-----------------------------\n",
      "+++ Inside function call +++\n",
      "-----------------------------\n",
      "Call Function: multiply\n",
      "Argument: {'numbers': [1, 2, 3]}\n",
      "------------------------------\n",
      "-- Inside function response --\n",
      "------------------------------\n",
      "Function Response: multiply\n",
      "Response: {'result': 6}\n",
      "-----------------------------\n",
      "+++ Inside function call +++\n",
      "-----------------------------\n",
      "Call Function: add\n",
      "Argument: {'numbers': [6, 5]}\n",
      "------------------------------\n",
      "-- Inside function response --\n",
      "------------------------------\n",
      "Function Response: add\n",
      "Response: {'result': 11}\n",
      "-----------------------------\n",
      ">>> Inside final response <<<\n",
      "-----------------------------\n",
      "The answer is 11.\n"
     ]
    }
   ],
   "source": [
    "user_query = \"Hi teacher. Could she help me to multiply all the numbers between 1 and 3 and then add 5?\"\n",
    "    \n",
    "print(f\"User query: {user_query}\")\n",
    "\n",
    "for event in agent.stream_query(user_id=\"user\", message=user_query):\n",
    "        parse_event_content(event)"
   ]
  }
 ],
 "metadata": {
  "colab": {
   "name": "get_started_with_memory_bank_adk.ipynb",
   "toc_visible": true
  },
  "environment": {
   "kernel": "python3",
   "name": "workbench-notebooks.m130",
   "type": "gcloud",
   "uri": "us-docker.pkg.dev/deeplearning-platform-release/gcr.io/workbench-notebooks:m130"
  },
  "kernelspec": {
   "display_name": "ag_workshop",
   "language": "python",
   "name": "python3"
  },
  "language_info": {
   "codemirror_mode": {
    "name": "ipython",
    "version": 3
   },
   "file_extension": ".py",
   "mimetype": "text/x-python",
   "name": "python",
   "nbconvert_exporter": "python",
   "pygments_lexer": "ipython3",
   "version": "3.12.11"
  }
 },
 "nbformat": 4,
 "nbformat_minor": 4
}
